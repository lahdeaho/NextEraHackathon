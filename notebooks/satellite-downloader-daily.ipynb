{
 "cells": [
  {
   "cell_type": "markdown",
   "metadata": {},
   "source": [
    "# Satellite Imagery Downloader - Daily"
   ]
  },
  {
   "cell_type": "code",
   "execution_count": 1,
   "metadata": {},
   "outputs": [],
   "source": [
    "import requests\n",
    "import json\n",
    "import numpy as np\n",
    "from zipfile import ZipFile\n",
    "from PIL import Image\n",
    "import utm\n",
    "import time\n",
    "import cv2\n",
    "import scipy.sparse\n",
    "import sys\n",
    "import glob\n",
    "import os\n",
    "import io\n",
    "import shutil\n",
    "from matplotlib import pyplot as plt"
   ]
  },
  {
   "cell_type": "markdown",
   "metadata": {},
   "source": [
    "### Functions"
   ]
  },
  {
   "cell_type": "code",
   "execution_count": 2,
   "metadata": {},
   "outputs": [],
   "source": [
    "def download_file(url, target_path, creds):\n",
    "    response = requests.get(url, stream=True, auth = creds);\n",
    "    handle = open(target_path, \"wb\");\n",
    "    for chunk in response.iter_content(chunk_size=512):\n",
    "        if chunk:  # filter out keep-alive new chunks\n",
    "            handle.write(chunk);\n",
    "    handle.close();"
   ]
  },
  {
   "cell_type": "code",
   "execution_count": 3,
   "metadata": {},
   "outputs": [],
   "source": [
    "def getImageFromZip(file_name, suffix=\"_B08.jp2\"):\n",
    "    arr = np.empty(0);\n",
    "    try:\n",
    "\n",
    "        with ZipFile(file_name, 'r') as zip:\n",
    "            for file_or_dir in zip.filelist:\n",
    "                if (suffix in file_or_dir.filename):\n",
    "                    fn = file_or_dir.filename;\n",
    "                    data = zip.read(fn);\n",
    "                    arr = np.array(Image.open(io.BytesIO(data)));\n",
    "    except:\n",
    "        print(\"Error while reading file\");\n",
    "    return arr;"
   ]
  },
  {
   "cell_type": "code",
   "execution_count": 4,
   "metadata": {},
   "outputs": [],
   "source": [
    "def getMaskedImage(img, mask):\n",
    "    arr = cv2.bitwise_and(img, img, mask=mask.toarray());\n",
    "    return arr;"
   ]
  },
  {
   "cell_type": "code",
   "execution_count": 5,
   "metadata": {},
   "outputs": [],
   "source": [
    "def hist_match(source, template):\n",
    "    \"\"\"\n",
    "    source: https://stackoverflow.com/questions/32655686/histogram-matching-of-two-images-in-python-2-x\n",
    "    Adjust the pixel values of a grayscale image such that its histogram\n",
    "    matches that of a target image\n",
    "\n",
    "    Arguments:\n",
    "    -----------\n",
    "        source: np.ndarray\n",
    "            Image to transform; the histogram is computed over the flattened\n",
    "            array\n",
    "        template: np.ndarray\n",
    "            Template image; can have different dimensions to source\n",
    "    Returns:\n",
    "    -----------\n",
    "        matched: np.ndarray\n",
    "            The transformed output image\n",
    "    \"\"\"\n",
    "\n",
    "    oldshape = source.shape\n",
    "    source = source.ravel()\n",
    "    template = template.ravel()\n",
    "\n",
    "    # get the set of unique pixel values and their corresponding indices and\n",
    "    # counts\n",
    "    s_values, bin_idx, s_counts = np.unique(source, return_inverse=True,\n",
    "                                            return_counts=True)\n",
    "    t_values, t_counts = np.unique(template, return_counts=True)\n",
    "\n",
    "    # take the cumsum of the counts and normalize by the number of pixels to\n",
    "    # get the empirical cumulative distribution functions for the source and\n",
    "    # template images (maps pixel value --> quantile)\n",
    "    s_quantiles = np.cumsum(s_counts).astype(np.float64)\n",
    "    s_quantiles /= s_quantiles[-1]\n",
    "    t_quantiles = np.cumsum(t_counts).astype(np.float64)\n",
    "    t_quantiles /= t_quantiles[-1]\n",
    "\n",
    "    # interpolate linearly to find the pixel values in the template image\n",
    "    # that correspond most closely to the quantiles in the source image\n",
    "    interp_t_values = np.interp(s_quantiles, t_quantiles, t_values)\n",
    "\n",
    "    return interp_t_values[bin_idx].reshape(oldshape)"
   ]
  },
  {
   "cell_type": "markdown",
   "metadata": {},
   "source": [
    "### Processing\n",
    "\n",
    "1. Download latest product (zip)\n",
    "1. Get Mask image\n",
    "1. Extract ...B08.jp2 image from zip\n",
    "1. Mask B08 image by using mask\n",
    "1. Outlier removal by using base line information\n",
    "1. Get last image for comparison\n",
    "1. Save this new image as latest image\n",
    "1. Move zip file to history\n",
    "1. Compare new and last image\n",
    "1. Build heatmap image\n",
    "1. Get points from highests and lowests values\n",
    "1. Save information as geojson\n",
    "\n",
    "\n",
    "\n",
    "http://colorbrewer2.org/#type=diverging&scheme=PRGn&n=3"
   ]
  },
  {
   "cell_type": "markdown",
   "metadata": {},
   "source": [
    "#### Download Latest Products"
   ]
  },
  {
   "cell_type": "code",
   "execution_count": null,
   "metadata": {},
   "outputs": [],
   "source": [
    "creds = ('<username>', '<password>')\n",
    "query1 = 'https://scihub.copernicus.eu/dhus/search?q=S2A_MSIL1C_* AND ( footprint:\"Intersects(POLYGON((25.602013093645457 65.04929472186046,26.55684592774098 65.04929472186046,26.55684592774098 65.6153691935298,25.602013093645457 65.6153691935298,25.602013093645457 65.04929472186046)))\" )&rows=10&start=0&format=json';"
   ]
  },
  {
   "cell_type": "code",
   "execution_count": null,
   "metadata": {},
   "outputs": [],
   "source": [
    "response = requests.get(query1, auth=creds)\n",
    "data1 = response.json()"
   ]
  },
  {
   "cell_type": "code",
   "execution_count": null,
   "metadata": {},
   "outputs": [],
   "source": [
    "links = {}\n",
    "for entry in data1['feed']['entry']:\n",
    "    links[entry['title'] + '.zip'] = entry['link'][0]['href'];"
   ]
  },
  {
   "cell_type": "code",
   "execution_count": null,
   "metadata": {},
   "outputs": [],
   "source": [
    "for l in links:\n",
    "    if (not os.path.exists(os.path.join(\"./history\", l))):\n",
    "        print(\"New product:\", l);\n",
    "        download_file(links[l], \"./daily/\" + l, creds);\n",
    "        file_name = \"./daily/\" + l\n",
    "        hist_name = \"./history/\" + l"
   ]
  },
  {
   "cell_type": "code",
   "execution_count": 6,
   "metadata": {},
   "outputs": [],
   "source": [
    "file_name = \"./daily/S2A_MSIL1C_20191005T095031_N0208_R079_T35WMN_20191005T102509.zip\" \n",
    "hist_name = \"./history/S2A_MSIL1C_20191005T095031_N0208_R079_T35WMN_20191005T102509.zip\" "
   ]
  },
  {
   "cell_type": "markdown",
   "metadata": {},
   "source": [
    "#### Get Mask Image"
   ]
  },
  {
   "cell_type": "code",
   "execution_count": 7,
   "metadata": {},
   "outputs": [],
   "source": [
    "sp_mask = scipy.sparse.load_npz('powerline_mask.npz');\n",
    "final = np.load(\"powerline_elevations_dist.npy\")"
   ]
  },
  {
   "cell_type": "markdown",
   "metadata": {},
   "source": [
    "#### Extract ...B08.jp2 image from zip"
   ]
  },
  {
   "cell_type": "code",
   "execution_count": 8,
   "metadata": {},
   "outputs": [
    {
     "name": "stderr",
     "output_type": "stream",
     "text": [
      "/home/mlahdeaho/anaconda3/envs/cudf/lib/python3.6/site-packages/PIL/Image.py:2731: DecompressionBombWarning: Image size (120560400 pixels) exceeds limit of 89478485 pixels, could be decompression bomb DOS attack.\n",
      "  DecompressionBombWarning,\n"
     ]
    }
   ],
   "source": [
    "img_b08 = getImageFromZip(file_name)"
   ]
  },
  {
   "cell_type": "markdown",
   "metadata": {},
   "source": [
    "#### Mask B08 image by using mask"
   ]
  },
  {
   "cell_type": "code",
   "execution_count": 9,
   "metadata": {},
   "outputs": [],
   "source": [
    "if (len(img_b08) > 0):\n",
    "    masked = getMaskedImage(img_b08, sp_mask);\n",
    "    masked = masked.astype('float64')\n",
    "    masked[masked == 0] = np.nan"
   ]
  },
  {
   "cell_type": "markdown",
   "metadata": {},
   "source": [
    "#### Outlier removal by using base line information"
   ]
  },
  {
   "cell_type": "code",
   "execution_count": 10,
   "metadata": {},
   "outputs": [],
   "source": [
    "q1 = final[:,:,0]\n",
    "q1_max = np.nanmax(q1);"
   ]
  },
  {
   "cell_type": "code",
   "execution_count": 11,
   "metadata": {},
   "outputs": [
    {
     "name": "stderr",
     "output_type": "stream",
     "text": [
      "/home/mlahdeaho/anaconda3/envs/cudf/lib/python3.6/site-packages/ipykernel_launcher.py:1: RuntimeWarning: invalid value encountered in greater\n",
      "  \"\"\"Entry point for launching an IPython kernel.\n"
     ]
    }
   ],
   "source": [
    "masked[masked > q1_max] = np.nan"
   ]
  },
  {
   "cell_type": "markdown",
   "metadata": {},
   "source": [
    "#### Get last image for comparison\n"
   ]
  },
  {
   "cell_type": "code",
   "execution_count": 12,
   "metadata": {},
   "outputs": [],
   "source": [
    "img_last = np.load(\"powerline_elevations_last.npy\")"
   ]
  },
  {
   "cell_type": "markdown",
   "metadata": {},
   "source": [
    "#### Compare new and last image"
   ]
  },
  {
   "cell_type": "code",
   "execution_count": 13,
   "metadata": {},
   "outputs": [],
   "source": [
    "A = hist_match(masked, q1)"
   ]
  },
  {
   "cell_type": "code",
   "execution_count": 14,
   "metadata": {},
   "outputs": [],
   "source": [
    "B = hist_match(img_last, q1)"
   ]
  },
  {
   "cell_type": "code",
   "execution_count": 15,
   "metadata": {},
   "outputs": [],
   "source": [
    "diff = np.subtract(B, A)"
   ]
  },
  {
   "cell_type": "markdown",
   "metadata": {},
   "source": [
    "#### Build heatmap image"
   ]
  },
  {
   "cell_type": "code",
   "execution_count": 57,
   "metadata": {},
   "outputs": [],
   "source": [
    "heatmap = np.empty((10980,10980,4), dtype=np.float64)\n",
    "heatmap[:,:,0] = diff\n",
    "heatmap[:,:,1] = diff\n",
    "heatmap[:,:,2] = diff\n",
    "heatmap[:,:,3] = diff"
   ]
  },
  {
   "cell_type": "code",
   "execution_count": 58,
   "metadata": {},
   "outputs": [],
   "source": [
    "heatmap[:,:,0][heatmap[:,:,0] < 1] = 0\n",
    "heatmap[:,:,0][(heatmap[:,:,0] > 0) & (heatmap[:,:,0] < 501)] = 85\n",
    "heatmap[:,:,0][(heatmap[:,:,0]  > 500) & (heatmap[:,:,0] < 1001)] = 170\n",
    "heatmap[:,:,0][heatmap[:,:,0] > 1000] = 255"
   ]
  },
  {
   "cell_type": "code",
   "execution_count": 59,
   "metadata": {},
   "outputs": [],
   "source": [
    "heatmap[:,:,1][heatmap[:,:,1] != np.nan] = 0"
   ]
  },
  {
   "cell_type": "code",
   "execution_count": 60,
   "metadata": {},
   "outputs": [],
   "source": [
    "heatmap[:,:,2][heatmap[:,:,2] > 0] = 0\n",
    "heatmap[:,:,2][(heatmap[:,:,2] > -500) & (heatmap[:,:,2] < 1)] = 85\n",
    "heatmap[:,:,2][(heatmap[:,:,2] > -1000) & (heatmap[:,:,2] < -501)] = 170\n",
    "heatmap[:,:,2][heatmap[:,:,2] < -1001] = 255"
   ]
  },
  {
   "cell_type": "code",
   "execution_count": 61,
   "metadata": {},
   "outputs": [],
   "source": [
    "heatmap[:,:,3][heatmap[:,:,3] == 0] = np.nan\n",
    "heatmap[:,:,3][~np.isnan(heatmap[:,:,3])] = 255\n",
    "heatmap[:,:,3][np.isnan(heatmap[:,:,3])] = 0"
   ]
  },
  {
   "cell_type": "code",
   "execution_count": 62,
   "metadata": {},
   "outputs": [
    {
     "data": {
      "text/plain": [
       "True"
      ]
     },
     "execution_count": 62,
     "metadata": {},
     "output_type": "execute_result"
    }
   ],
   "source": [
    "cv2.imwrite(\"heatmap_rgba.png\", heatmap.astype('uint8'))"
   ]
  },
  {
   "cell_type": "markdown",
   "metadata": {},
   "source": [
    "#### Get points from highests and lowests values"
   ]
  },
  {
   "cell_type": "code",
   "execution_count": null,
   "metadata": {},
   "outputs": [],
   "source": []
  },
  {
   "cell_type": "markdown",
   "metadata": {},
   "source": [
    "#### Save information as geojson"
   ]
  },
  {
   "cell_type": "code",
   "execution_count": null,
   "metadata": {},
   "outputs": [],
   "source": []
  },
  {
   "cell_type": "markdown",
   "metadata": {},
   "source": [
    "#### Save this new image as latest image"
   ]
  },
  {
   "cell_type": "code",
   "execution_count": null,
   "metadata": {},
   "outputs": [],
   "source": [
    "np.save(\"powerline_elevations_last.npy\", masked)\n",
    "np.save(\"powerline_images/powerline_%s.npy\" % (file_name[46:-4]), masked)"
   ]
  },
  {
   "cell_type": "markdown",
   "metadata": {},
   "source": [
    "#### Move zip to history"
   ]
  },
  {
   "cell_type": "code",
   "execution_count": null,
   "metadata": {},
   "outputs": [],
   "source": [
    "shutil.move(file_name, hist_name);"
   ]
  },
  {
   "cell_type": "markdown",
   "metadata": {},
   "source": [
    "### Visualize"
   ]
  },
  {
   "cell_type": "code",
   "execution_count": null,
   "metadata": {},
   "outputs": [],
   "source": [
    "np.nanmax(diff)"
   ]
  },
  {
   "cell_type": "code",
   "execution_count": null,
   "metadata": {},
   "outputs": [],
   "source": [
    "h1 = np.histogram(A[~np.isnan(A)], bins=[0,1000,2000,3000,4000,5000,6000,7000,32000])"
   ]
  },
  {
   "cell_type": "code",
   "execution_count": null,
   "metadata": {},
   "outputs": [],
   "source": [
    "h2 = np.histogram(B[~np.isnan(B)], bins=[0,1000,2000,3000,4000,5000,6000,7000,32000])"
   ]
  },
  {
   "cell_type": "code",
   "execution_count": null,
   "metadata": {},
   "outputs": [],
   "source": [
    "h3 = np.histogram(diff[~np.isnan(diff)], bins=[0,1000,2000,3000,4000,5000,6000,7000,32000])"
   ]
  },
  {
   "cell_type": "code",
   "execution_count": null,
   "metadata": {},
   "outputs": [],
   "source": [
    "plt.plot(h1[1][:-1], h1[0])\n",
    "plt.plot(h2[1][:-1], h2[0])\n",
    "plt.plot(h3[1][:-1], h3[0])\n",
    "plt.show()"
   ]
  },
  {
   "cell_type": "code",
   "execution_count": null,
   "metadata": {},
   "outputs": [],
   "source": [
    "len(diff[abs(diff) > 500])"
   ]
  },
  {
   "cell_type": "code",
   "execution_count": 22,
   "metadata": {},
   "outputs": [
    {
     "name": "stderr",
     "output_type": "stream",
     "text": [
      "/home/mlahdeaho/anaconda3/envs/cudf/lib/python3.6/site-packages/ipykernel_launcher.py:1: RuntimeWarning: invalid value encountered in greater\n",
      "  \"\"\"Entry point for launching an IPython kernel.\n",
      "/home/mlahdeaho/anaconda3/envs/cudf/lib/python3.6/site-packages/ipykernel_launcher.py:1: RuntimeWarning: invalid value encountered in less\n",
      "  \"\"\"Entry point for launching an IPython kernel.\n"
     ]
    },
    {
     "data": {
      "text/plain": [
       "110333"
      ]
     },
     "execution_count": 22,
     "metadata": {},
     "output_type": "execute_result"
    }
   ],
   "source": [
    "len(diff[(diff > -500) & (diff < 1)])"
   ]
  },
  {
   "cell_type": "code",
   "execution_count": 63,
   "metadata": {},
   "outputs": [],
   "source": [
    "aimg = cv2.imread(\"heatmap_rgba.png\", cv2.IMREAD_UNCHANGED)"
   ]
  },
  {
   "cell_type": "code",
   "execution_count": 64,
   "metadata": {},
   "outputs": [
    {
     "data": {
      "text/plain": [
       "array([[0, 0, 0, ..., 0, 0, 0],\n",
       "       [0, 0, 0, ..., 0, 0, 0],\n",
       "       [0, 0, 0, ..., 0, 0, 0],\n",
       "       ...,\n",
       "       [0, 0, 0, ..., 0, 0, 0],\n",
       "       [0, 0, 0, ..., 0, 0, 0],\n",
       "       [0, 0, 0, ..., 0, 0, 0]], dtype=uint8)"
      ]
     },
     "execution_count": 64,
     "metadata": {},
     "output_type": "execute_result"
    }
   ],
   "source": [
    "aimg[:,:,3]"
   ]
  },
  {
   "cell_type": "code",
   "execution_count": null,
   "metadata": {},
   "outputs": [],
   "source": []
  }
 ],
 "metadata": {
  "kernelspec": {
   "display_name": "Python (cudf)",
   "language": "python",
   "name": "cudf"
  },
  "language_info": {
   "codemirror_mode": {
    "name": "ipython",
    "version": 3
   },
   "file_extension": ".py",
   "mimetype": "text/x-python",
   "name": "python",
   "nbconvert_exporter": "python",
   "pygments_lexer": "ipython3",
   "version": "3.6.8"
  }
 },
 "nbformat": 4,
 "nbformat_minor": 2
}
