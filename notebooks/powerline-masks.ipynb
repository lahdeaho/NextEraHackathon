{
 "cells": [
  {
   "attachments": {
    "image.png": {
     "image/png": "[encoded data removed]"
    }
   },
   "cell_type": "markdown",
   "metadata": {},
   "source": [
    "## Sähkölinjat\n",
    "\n",
    "* Apuja koordinaattien ja polygonien visualisointiin http://geojson.io\n",
    "* OSM-Objektien kaappaamista https://overpass-turbo.eu/\n",
    "* Tagit https://wiki.openstreetmap.org/wiki/Key:power\n",
    "\n",
    "### Tavoite\n",
    "* Isojen linjojen alueet openstreetmap->overpass->kuvamaskit -prosessilla\n",
    "* B08 korkeuskäyrästä maaston/kasvuston korkeus, outlierit pois luettuna\n",
    "* Pohjatieto jostain parin vuoden takaisesta kuvasta\n",
    "* Sektorit alueille => Kuvan pienentäminen tilastollista funktiota hyödyntäen => esim. 4x4 pikselin alue = 40m x 40m alue \n",
    "* Numpyn tai scipyn avulla laskenta matriisille maskattuna\n",
    "\n",
    "`\n",
    "import MA\n",
    "a = MA.array([1, 2, None], mask = [0, 0, 1])\n",
    "MA.average(a)\n",
    "`\n",
    "##### Tai \n",
    "`\n",
    "import scipy.stats.stats as st\n",
    "m=st.nanmean(vec)\n",
    "`\n",
    "\n",
    "![image.png](attachment:image.png)\n",
    "\n",
    "### MXNET Mallit\n",
    "* Gluon esimerkki \n",
    "* Labeleiden formaatti\n",
    "\n",
    "### Input\n",
    "* Satelliittikuvasta tiedot\n",
    "* Kuvan koko pikseleissä 109800 x 109800 (koordinaatit muutettuna UTM vastaa tätä kokoa)\n",
    "* Query\n",
    "\n",
    "### Output\n",
    "* iname,n[|cx,cy,w,h,label]"
   ]
  },
  {
   "cell_type": "code",
   "execution_count": 1,
   "metadata": {},
   "outputs": [],
   "source": [
    "%config IPCompleter.greedy=True"
   ]
  },
  {
   "cell_type": "code",
   "execution_count": 2,
   "metadata": {},
   "outputs": [],
   "source": [
    "%matplotlib inline\n",
    "import matplotlib.pyplot as plt\n",
    "import numpy as np\n",
    "import shapely.geometry as geometry\n",
    "from shapely.ops import linemerge, unary_union, polygonize\n",
    "import utm\n",
    "import overpy\n",
    "import time\n",
    "import cv2\n",
    "import scipy.sparse\n",
    "import sys"
   ]
  },
  {
   "cell_type": "code",
   "execution_count": 3,
   "metadata": {},
   "outputs": [],
   "source": [
    "# Satelliittikuvan alue\n",
    "points = np.array([\n",
    "            [\n",
    "              65.80591820047655, 24.8120825440702\n",
    "            ],\n",
    "            [\n",
    "              65.8214035188828, 27.213549565024742\n",
    "            ],\n",
    "            [\n",
    "              64.8362407624999, 27.20571148892141\n",
    "            ],\n",
    "            [\n",
    "              64.8214388312971, 24.892314281559564 # origo 0,0\n",
    "            ],\n",
    "            [\n",
    "              65.80591820047655, 24.8120825440702\n",
    "            ]\n",
    "          ]);"
   ]
  },
  {
   "cell_type": "markdown",
   "metadata": {},
   "source": [
    "### Rakennukset ja niiden sijainnit Open Street Mapsista\n",
    "* Overpass API Query\n"
   ]
  },
  {
   "cell_type": "code",
   "execution_count": 4,
   "metadata": {},
   "outputs": [],
   "source": [
    "api = overpy.Overpass(url=\"http://overpass-api.de/api/interpreter\")"
   ]
  },
  {
   "cell_type": "code",
   "execution_count": 5,
   "metadata": {},
   "outputs": [],
   "source": [
    "query = \"\"\"\n",
    "[timeout:99999];\n",
    "(\n",
    "  node[power=line](64.8214388312971, 24.8120825440702, 65.8214035188828, 27.20571148892141);\n",
    "  way[power=line](64.8214388312971, 24.8120825440702, 65.8214035188828, 27.20571148892141);\n",
    ");\n",
    "out;\n",
    "\"\"\""
   ]
  },
  {
   "cell_type": "code",
   "execution_count": 6,
   "metadata": {},
   "outputs": [
    {
     "name": "stdout",
     "output_type": "stream",
     "text": [
      "Ways: 129\n"
     ]
    }
   ],
   "source": [
    "response = api.query(query);\n",
    "lss = [];\n",
    "print(\"Ways:\", len(response.ways))"
   ]
  },
  {
   "cell_type": "code",
   "execution_count": 7,
   "metadata": {},
   "outputs": [
    {
     "name": "stdout",
     "output_type": "stream",
     "text": [
      "0 {'cables': '3', 'note': 'FIXME verification, details needed', 'power': 'line', 'source': 'landsat; Yahoo; Bing; Gps', 'voltage': '220000'}\n",
      "1 {'cables': '3', 'power': 'line', 'source': 'Bing', 'voltage': '400000'}\n",
      "2 {'cables': '3', 'operator': 'Fingrid', 'power': 'line', 'ref': '2530', 'source': 'Mapbox aerial, MML', 'voltage': '110000'}\n",
      "3 {'cables': '3', 'power': 'line', 'voltage': '400000'}\n",
      "4 {'cables': '3', 'operator': 'Fingrid Oyj', 'power': 'line', 'source': 'MML, Bing;aerial image', 'source_ref': 'Bing', 'voltage': '400000'}\n",
      "5 {'cables': '3', 'power': 'line', 'source': 'bing', 'voltage': '400000'}\n",
      "6 {'power': 'line'}\n",
      "7 {'power': 'line'}\n",
      "8 {'power': 'line'}\n",
      "9 {'cables': '6', 'power': 'line', 'voltage': '110000'}\n",
      "10 {'power': 'line', 'voltage': '110000'}\n",
      "11 {'power': 'line'}\n",
      "12 {'cables': '3', 'power': 'line'}\n",
      "13 {'cables': '3', 'power': 'line', 'voltage': '220000'}\n",
      "14 {'cables': '3', 'operator': 'Fingrid', 'power': 'line', 'ref': '1872', 'source': 'Bing, MML', 'voltage': '400000'}\n",
      "15 {'cables': '6', 'power': 'line', 'voltage': '110000'}\n",
      "16 {'power': 'line'}\n",
      "17 {'power': 'line'}\n",
      "18 {'power': 'line'}\n",
      "19 {'cables': '6', 'power': 'line', 'voltage': '110000'}\n",
      "20 {'power': 'line'}\n",
      "21 {'power': 'line'}\n",
      "22 {'power': 'line'}\n",
      "23 {'cables': '3', 'power': 'line', 'voltage': '400000', 'wires': 'double'}\n",
      "24 {'power': 'line'}\n",
      "25 {'power': 'line'}\n",
      "26 {'power': 'line'}\n",
      "27 {'note': 'FIXME verification, details needed', 'power': 'line', 'source': 'yahoo', 'voltage': '110000'}\n",
      "28 {'power': 'line'}\n",
      "29 {'cables': '3', 'power': 'line', 'voltage': '220000'}\n",
      "30 {'power': 'line'}\n",
      "31 {'note': 'FIXME verification, details needed', 'power': 'line', 'source': 'yahoo'}\n",
      "32 {'power': 'line'}\n",
      "33 {'power': 'line'}\n",
      "34 {'cables': '3', 'power': 'line', 'wires': 'double'}\n",
      "35 {'power': 'line'}\n",
      "36 {'cables': '3', 'operator': 'Fingrid', 'power': 'line', 'ref': '2515', 'source': 'MML', 'voltage': '110000', 'wires': 'single'}\n",
      "37 {'power': 'line'}\n",
      "38 {'power': 'line'}\n",
      "39 {'operator': 'Fingrid', 'power': 'line', 'ref': '1123', 'voltage': '110000'}\n",
      "40 {'power': 'line', 'wires': '3'}\n",
      "41 {'power': 'line', 'wires': '3'}\n",
      "42 {'power': 'line', 'wires': '3'}\n",
      "43 {'cables': '3', 'note': 'FIXME verification, details needed', 'power': 'line', 'source': 'landsat; Yahoo; Bing; Gps', 'voltage': '220000'}\n",
      "44 {'power': 'line'}\n",
      "45 {'note': 'FIXME verification, details needed', 'power': 'line'}\n",
      "46 {'power': 'line'}\n",
      "47 {'cables': '3', 'operator': 'Fingrid', 'power': 'line', 'ref': '2512', 'source': 'landsat; Yahoo; Bing; Gps, MML', 'voltage': '110000', 'wires': 'double'}\n",
      "48 {'power': 'line', 'voltage': '110000'}\n",
      "49 {'power': 'line'}\n",
      "50 {'cables': '3', 'power': 'line', 'voltage': '400000'}\n",
      "51 {'power': 'line'}\n",
      "52 {'power': 'line'}\n",
      "53 {'power': 'line'}\n",
      "54 {'cables': '3', 'power': 'line', 'voltage': '110000'}\n",
      "55 {'cables': '3', 'power': 'line', 'source': 'Bing', 'voltage': '400000'}\n",
      "56 {'cables': '3', 'power': 'line', 'voltage': '110000'}\n",
      "57 {'cables': '3', 'operator': 'Fingrid Oyj', 'power': 'line', 'source': 'MML, Bing;aerial image', 'source_ref': 'Bing', 'voltage': '400000'}\n",
      "58 {'power': 'line'}\n",
      "59 {'cables': '3', 'power': 'line', 'voltage': '220000'}\n",
      "60 {'power': 'line'}\n",
      "61 {'power': 'line'}\n",
      "62 {'cables': '3', 'power': 'line', 'voltage': '220000'}\n",
      "63 {'cables': '3', 'power': 'line', 'voltage': '220000'}\n",
      "64 {'power': 'line', 'source': 'MML, Fingrid, Mapbox aerial', 'voltage': '110000'}\n",
      "65 {'cables': '3', 'power': 'line', 'voltage': '220000'}\n",
      "66 {'power': 'line', 'source': 'navsat, FIX ME!'}\n",
      "67 {'power': 'line'}\n",
      "68 {'cables': '3', 'power': 'line', 'voltage': '220000'}\n",
      "69 {'power': 'line'}\n",
      "70 {'power': 'line', 'source': 'Bing hires'}\n",
      "71 {'cables': '3', 'power': 'line', 'voltage': '400000', 'wires': 'double'}\n",
      "72 {'cables': '6', 'power': 'line', 'source': 'landsat', 'voltage': '400000'}\n",
      "73 {'cables': '3', 'power': 'line', 'source': 'MML', 'voltage': '110000', 'wires': 'double'}\n",
      "74 {'power': 'line'}\n",
      "75 {'power': 'line'}\n",
      "76 {'power': 'line'}\n",
      "77 {'power': 'line'}\n",
      "78 {'power': 'line'}\n",
      "79 {'power': 'line'}\n",
      "80 {'power': 'line'}\n",
      "81 {'power': 'line'}\n",
      "82 {'power': 'line'}\n",
      "83 {'power': 'line'}\n",
      "84 {'power': 'line'}\n",
      "85 {'power': 'line'}\n",
      "86 {'power': 'line'}\n",
      "87 {'power': 'line'}\n",
      "88 {'power': 'line'}\n",
      "89 {'power': 'line'}\n",
      "90 {'cables': '3', 'power': 'line', 'voltage': '110000'}\n",
      "91 {'cables': '3', 'line': 'internal', 'power': 'line', 'voltage': '110000'}\n",
      "92 {'cables': '3', 'line': 'internal', 'power': 'line', 'voltage': '110000'}\n",
      "93 {'cables': '3', 'power': 'line', 'voltage': '110000'}\n",
      "94 {'cables': '3', 'power': 'line', 'voltage': '400000'}\n",
      "95 {'cables': '3', 'power': 'line', 'voltage': '110000'}\n",
      "96 {'cables': '6', 'power': 'line', 'voltage': '110000'}\n",
      "97 {'cables': '3', 'power': 'line', 'voltage': '400000', 'wires': 'double'}\n",
      "98 {'cables': '3', 'power': 'line', 'source': 'bing', 'voltage': '400000'}\n",
      "99 {'cables': '3', 'power': 'line', 'voltage': '110000'}\n",
      "100 {'power': 'line'}\n",
      "101 {'power': 'line', 'source': 'Bing hires'}\n",
      "102 {'note': '110kV Valtaosa tolpista puuttuu, olemassaolevat nodet tolppien kohdalla.', 'power': 'line', 'source': 'MML2017', 'voltage': '110000'}\n",
      "103 {'note': '110kV Valtaosa tolpista puuttuu, olemassaolevat nodet tolppien kohdalla.', 'power': 'line', 'source': 'MML2017', 'voltage': '110000'}\n",
      "104 {'note': '110kV Valtaosa tolpista puuttuu, olemassaolevat nodet tolppien kohdalla.', 'power': 'line', 'source': 'MML2017', 'voltage': '110000'}\n",
      "105 {'operator': 'Fingrid', 'power': 'line', 'source': 'MML2017', 'voltage': '110000'}\n",
      "106 {'operator': 'Fingrid', 'power': 'line', 'source': 'MML', 'voltage': '110000'}\n",
      "107 {'power': 'line'}\n",
      "108 {'cables': '3', 'power': 'line', 'source': 'landsat; Yahoo; Bing; Gps, MML', 'voltage': '110000', 'wires': 'double'}\n",
      "109 {'power': 'line'}\n",
      "110 {'cables': '3', 'power': 'line', 'source': 'Fingrid navici', 'voltage': '110000', 'was:voltage': '220000', 'wires': 'double'}\n",
      "111 {'cables': '3', 'power': 'line', 'voltage': '110000'}\n",
      "112 {'power': 'line'}\n",
      "113 {'power': 'line'}\n",
      "114 {'power': 'line'}\n",
      "115 {'power': 'line'}\n",
      "116 {'operator': 'Fingrid', 'power': 'line', 'source': 'MML', 'voltage': '110000'}\n",
      "117 {'note:fi': 'Tähän lienee tullut EPVn sähkölinja', 'power': 'line', 'voltage': '110000'}\n",
      "118 {'operator': 'Fingrid', 'power': 'line', 'source': 'MML', 'voltage': '110000'}\n",
      "119 {'operator': 'Fingrid', 'power': 'line', 'source': 'MML', 'voltage': '110000'}\n",
      "120 {'operator': 'Fingrid', 'power': 'line', 'source': 'MML2017', 'voltage': '110000'}\n",
      "121 {'operator': 'Fingrid', 'power': 'line', 'source': 'MML', 'voltage': '110000'}\n",
      "122 {'power': 'line', 'source': 'MML', 'voltage': '110000'}\n",
      "123 {'cables': '3', 'operator': 'Fingrid', 'power': 'line', 'ref': '2513', 'source': 'yahoo', 'voltage': '110000', 'wires': 'double'}\n",
      "124 {'cables': '3', 'operator': 'Fingrid', 'power': 'line', 'ref': '2515', 'source': 'MML', 'voltage': '110000', 'wires': 'single'}\n",
      "125 {'cables': '3', 'operator': 'Fingrid', 'power': 'line', 'source': 'yahoo', 'voltage': '110000', 'wires': 'double'}\n",
      "126 {'operator': 'Fingrid', 'power': 'line', 'source': 'MML2017', 'voltage': '110000'}\n",
      "127 {'power': 'line', 'source': 'MML Topo', 'voltage': '110000'}\n",
      "128 {'power': 'line', 'source': 'MML Topo', 'voltage': '110000'}\n"
     ]
    }
   ],
   "source": [
    "for i, way in enumerate(response.ways):\n",
    "    print(i, way.tags)\n",
    "    ls_coords = []\n",
    "    try:\n",
    "        nodes = way.get_nodes(resolve_missing=True);\n",
    "    except:\n",
    "        time.sleep(60);\n",
    "        nodes = way.get_nodes(resolve_missing=True);\n",
    "    finally:\n",
    "        #does this get executed in try\n",
    "        for node in nodes:\n",
    "            ls_coords.append((node.lon,node.lat));\n",
    "    \n",
    "    lss.append(ls_coords);"
   ]
  },
  {
   "cell_type": "markdown",
   "metadata": {},
   "source": [
    "### Output tiedostoon"
   ]
  },
  {
   "cell_type": "code",
   "execution_count": 14,
   "metadata": {},
   "outputs": [],
   "source": [
    "o_x, o_y, _, _ = utm.from_latlon(points[3][0], points[3][1]);\n",
    "\n",
    "img = np.zeros((10980, 10980, 3), dtype = \"uint8\");\n",
    "\n",
    "i = 0;\n",
    "for ls in lss:\n",
    "    pts = np.empty((0,2)).astype('int32');\n",
    "    i += 1;\n",
    "    for xy in ls:\n",
    "        x, y, _, _ = utm.from_latlon(float(xy[1]), float(xy[0]));\n",
    "        x = int(x - o_x);\n",
    "        y = 109800-int(y - o_y);\n",
    "        pts = np.append(pts, [int(x/10), int(y/10)]);\n",
    "    pts = pts.reshape((-1,1,2));\n",
    "    cv2.polylines(img,[pts],False,(255,255,255), 3);"
   ]
  },
  {
   "cell_type": "code",
   "execution_count": 15,
   "metadata": {},
   "outputs": [],
   "source": [
    "img_gray = cv2.cvtColor(img, cv2.COLOR_RGB2GRAY);\n",
    "_, img_bw = cv2.threshold(img_gray, 127, 255, cv2.THRESH_BINARY);"
   ]
  },
  {
   "cell_type": "code",
   "execution_count": 16,
   "metadata": {},
   "outputs": [],
   "source": [
    "sp_mask = scipy.sparse.csc_matrix(img_bw)"
   ]
  },
  {
   "cell_type": "code",
   "execution_count": 17,
   "metadata": {},
   "outputs": [],
   "source": [
    "scipy.sparse.save_npz('powerline_mask.npz', sp_mask);"
   ]
  },
  {
   "cell_type": "code",
   "execution_count": 18,
   "metadata": {},
   "outputs": [
    {
     "data": {
      "text/plain": [
       "True"
      ]
     },
     "execution_count": 18,
     "metadata": {},
     "output_type": "execute_result"
    }
   ],
   "source": [
    "cv2.imwrite(\"powerline_mask.png\", img_bw)"
   ]
  },
  {
   "cell_type": "code",
   "execution_count": 25,
   "metadata": {},
   "outputs": [
    {
     "data": {
      "text/plain": [
       "36168120128"
      ]
     },
     "execution_count": 25,
     "metadata": {},
     "output_type": "execute_result"
    }
   ],
   "source": [
    "sys.getsizeof(img)"
   ]
  },
  {
   "cell_type": "code",
   "execution_count": 26,
   "metadata": {},
   "outputs": [
    {
     "data": {
      "text/plain": [
       "12056040112"
      ]
     },
     "execution_count": 26,
     "metadata": {},
     "output_type": "execute_result"
    }
   ],
   "source": [
    "sys.getsizeof(img_bw)"
   ]
  },
  {
   "cell_type": "code",
   "execution_count": 24,
   "metadata": {},
   "outputs": [
    {
     "data": {
      "text/plain": [
       "56"
      ]
     },
     "execution_count": 24,
     "metadata": {},
     "output_type": "execute_result"
    }
   ],
   "source": [
    "sys.getsizeof(sp_mask)"
   ]
  },
  {
   "cell_type": "code",
   "execution_count": 13,
   "metadata": {},
   "outputs": [
    {
     "data": {
      "text/plain": [
       "399960.0000006152"
      ]
     },
     "execution_count": 13,
     "metadata": {},
     "output_type": "execute_result"
    }
   ],
   "source": [
    "o_x"
   ]
  }
 ],
 "metadata": {
  "kernelspec": {
   "display_name": "Python (cudf)",
   "language": "python",
   "name": "cudf"
  },
  "language_info": {
   "codemirror_mode": {
    "name": "ipython",
    "version": 3
   },
   "file_extension": ".py",
   "mimetype": "text/x-python",
   "name": "python",
   "nbconvert_exporter": "python",
   "pygments_lexer": "ipython3",
   "version": "3.6.8"
  }
 },
 "nbformat": 4,
 "nbformat_minor": 2
}
